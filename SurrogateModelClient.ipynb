{
 "cells": [
  {
   "cell_type": "markdown",
   "metadata": {},
   "source": [
    "# Set up client tools for surrogate model"
   ]
  },
  {
   "cell_type": "code",
   "execution_count": null,
   "metadata": {},
   "outputs": [],
   "source": [
    "from lume_epics.client.widgets.plots import ImagePlot\n",
    "from lume_epics.client.widgets.sliders import build_sliders\n",
    "from lume_epics.client.controller import Controller\n",
    "from lume_model.utils import load_variables\n",
    "\n",
    "from bokeh.io import output_notebook, show\n",
    "from bokeh import palettes\n",
    "from bokeh.layouts import column, row\n",
    "from bokeh.models import LinearColorMapper\n",
    "# load bokeh\n",
    "output_notebook()"
   ]
  },
  {
   "cell_type": "markdown",
   "metadata": {},
   "source": [
    "# Load the model variables"
   ]
  },
  {
   "cell_type": "code",
   "execution_count": null,
   "metadata": {},
   "outputs": [],
   "source": [
    "prefix = \"test\"\n",
    "variable_filename =  \"surrogate_model_variables.pickle\"\n",
    "input_variables, output_variables = load_variables(variable_filename)"
   ]
  },
  {
   "cell_type": "markdown",
   "metadata": {},
   "source": [
    "# Build sliders and image plot"
   ]
  },
  {
   "cell_type": "code",
   "execution_count": null,
   "metadata": {},
   "outputs": [],
   "source": [
    " # build sliders for the command process variable database\n",
    "inputs = [input_variables[\"phi(1)\"], \n",
    "          input_variables[\"maxb(2)\"], \n",
    "          input_variables[\"laser_radius\"],\n",
    "          input_variables[\"total_charge:value\"],\n",
    "         ]\n",
    "controller = Controller(\"ca\") # can also use channel access\n",
    "sliders = build_sliders(inputs, controller, prefix)\n",
    "\n",
    "# create image plot\n",
    "output_variables = [output_variables[\"x:y\"]]\n",
    "image_plot = ImagePlot(output_variables, controller, prefix)\n",
    "\n",
    "pal = palettes.viridis(256)\n",
    "#color_mapper = LinearColorMapper(palette=pal, low=0, high=256)\n",
    "\n",
    "image_plot.build_plot(palette=pal)\n",
    "\n",
    "# Set up image update callback\n",
    "def image_update_callback():\n",
    "    image_plot.update()"
   ]
  },
  {
   "cell_type": "markdown",
   "metadata": {},
   "source": [
    "# Render the application"
   ]
  },
  {
   "cell_type": "code",
   "execution_count": null,
   "metadata": {},
   "outputs": [],
   "source": [
    "# function for rendering the application in the bokeh server\n",
    "def render_app(doc):\n",
    "    doc.title = \"Demo App\"\n",
    "    doc.add_root(\n",
    "        column(\n",
    "            row(column(sliders, width=350), column(image_plot.plot, width=350)), \n",
    "        )\n",
    "    )\n",
    "    doc.add_periodic_callback(image_update_callback, 250)\n",
    "\n",
    "    \n",
    "show(render_app)"
   ]
  },
  {
   "cell_type": "markdown",
   "metadata": {},
   "source": [
    "# NOTE: x-min, x-max, y-min, y-max are updated directly in the variable. The server then handles serving of the metadata by protocol"
   ]
  }
 ],
 "metadata": {
  "kernelspec": {
   "display_name": "lume-model-server-demo",
   "language": "python",
   "name": "lume-model-server-demo"
  },
  "language_info": {
   "codemirror_mode": {
    "name": "ipython",
    "version": 3
   },
   "file_extension": ".py",
   "mimetype": "text/x-python",
   "name": "python",
   "nbconvert_exporter": "python",
   "pygments_lexer": "ipython3",
   "version": "3.7.7"
  }
 },
 "nbformat": 4,
 "nbformat_minor": 4
}

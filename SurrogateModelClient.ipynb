{
 "cells": [
  {
   "cell_type": "markdown",
   "metadata": {},
   "source": [
    "# Surrogate Model Client Tools\n",
    "In this notebook, we set up the client used for controlling and displaying the variables we served in the SurrogateModelServer notebook. The input and output variables built during model development are passed to `lume-epics` widgets. The `lume-epics` `Controller` object facilitates get/puts over EPICS. In this demo, we configure the controller to use pvAccess."
   ]
  },
  {
   "cell_type": "markdown",
   "metadata": {},
   "source": [
    "## Load the model variables\n",
    "`lume-model` defines utility functions for saving models during model development and subsequent loading."
   ]
  },
  {
   "cell_type": "code",
   "execution_count": null,
   "metadata": {},
   "outputs": [],
   "source": [
    "from lume_model.utils import load_variables\n",
    "\n",
    "prefix = \"test\" # Prefix used by our server\n",
    "variable_filename =  \"files/surrogate_model_variables_2.pickle\"\n",
    "input_variables, output_variables = load_variables(variable_filename)"
   ]
  },
  {
   "cell_type": "markdown",
   "metadata": {},
   "source": [
    "## Create Controller\n",
    "\n",
    "The controller is initialized with a protocol indicator for reading process variables (`pva` for pvAccess and `ca` for Channel Access). The controller updates both the Channel Access and pvAccess variables on puts; however, it can be configured to operate using a single protocol:\n",
    "\n",
    "```\n",
    "controller = Controller(\"pva\", set_ca=False)\n",
    "```"
   ]
  },
  {
   "cell_type": "code",
   "execution_count": null,
   "metadata": {},
   "outputs": [],
   "source": [
    "from lume_epics.client.controller import Controller\n",
    "controller = Controller(\"pva\")"
   ]
  },
  {
   "cell_type": "markdown",
   "metadata": {},
   "source": [
    "##  Build sliders\n",
    "The `lume-epics` build_slider utility will render bokeh `Slider` objects for each `lume-model` variable passed."
   ]
  },
  {
   "cell_type": "code",
   "execution_count": null,
   "metadata": {},
   "outputs": [],
   "source": [
    "from lume_epics.client.widgets.controls import build_sliders\n",
    "\n",
    "inputs = [\n",
    "          input_variables[\"distgen:r_dist:sigma_xy:value\"], \n",
    "          input_variables[\"distgen:t_dist:length:value\"],\n",
    "          input_variables[\"SOL1:solenoid_field_scale\"],\n",
    "          input_variables[\"CQ01:b1_gradient\"],\n",
    "          input_variables[\"SQ01:b1_gradient\"],\n",
    "          input_variables[\"L0A_phase:dtheta0_deg\"],\n",
    "          input_variables[\"end_mean_z\"]\n",
    "        ]\n",
    "\n",
    "sliders = build_sliders(inputs, controller, prefix)"
   ]
  },
  {
   "cell_type": "markdown",
   "metadata": {},
   "source": [
    "## Build image plot\n",
    "The `ImagePlot` object accepts a list of `lume-model` `ImageVariables`."
   ]
  },
  {
   "cell_type": "code",
   "execution_count": null,
   "metadata": {},
   "outputs": [],
   "source": [
    "from lume_epics.client.widgets.plots import ImagePlot\n",
    "from bokeh import palettes\n",
    "\n",
    "# create image plot\n",
    "output_variables = [output_variables[\"x:y\"]]\n",
    "image_plot = ImagePlot(output_variables, controller, prefix)\n",
    "\n",
    "\n",
    "# build the plot using specific bokeh palette\n",
    "pal = palettes.viridis(256)\n",
    "image_plot.build_plot(palette=pal)"
   ]
  },
  {
   "cell_type": "markdown",
   "metadata": {},
   "source": [
    "# Use bokeh to render the application"
   ]
  },
  {
   "cell_type": "code",
   "execution_count": null,
   "metadata": {},
   "outputs": [],
   "source": [
    "from bokeh.io import output_notebook, show\n",
    "from bokeh.layouts import column, row\n",
    "from bokeh.resources import INLINE\n",
    "\n",
    "# load bokeh\n",
    "output_notebook(INLINE) \n",
    "\n",
    "# function for rendering the application in the bokeh server\n",
    "def render_app(doc):\n",
    "    doc.title = \"Demo App\"\n",
    "    doc.add_root(\n",
    "        column(\n",
    "            row(column(sliders, width=350), column(image_plot.plot, width=350)), \n",
    "        )\n",
    "    )\n",
    "    doc.add_periodic_callback(image_plot.update, 250) # add callback to update the image \n",
    "\n",
    "    \n",
    "show(render_app)"
   ]
  },
  {
   "cell_type": "code",
   "execution_count": null,
   "metadata": {},
   "outputs": [],
   "source": []
  }
 ],
 "metadata": {
  "kernelspec": {
   "display_name": "lume-model-server-demo",
   "language": "python",
   "name": "lume-model-server-demo"
  },
  "language_info": {
   "codemirror_mode": {
    "name": "ipython",
    "version": 3
   },
   "file_extension": ".py",
   "mimetype": "text/x-python",
   "name": "python",
   "nbconvert_exporter": "python",
   "pygments_lexer": "ipython3",
   "version": "3.7.7"
  }
 },
 "nbformat": 4,
 "nbformat_minor": 4
}

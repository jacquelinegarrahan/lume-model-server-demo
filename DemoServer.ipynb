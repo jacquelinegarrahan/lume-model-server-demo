{
 "cells": [
  {
   "cell_type": "markdown",
   "metadata": {},
   "source": [
    "# Demo of application using lume-epics and lume-model "
   ]
  },
  {
   "cell_type": "code",
   "execution_count": null,
   "metadata": {},
   "outputs": [],
   "source": [
    "import numpy as np\n",
    "from lume_epics.epics_server import Server\n",
    "from lume_epics.model import SurrogateModel\n",
    "from lume_model.variables import ScalarInputVariable, ImageOutputVariable\n",
    "from lume_model.utils import save_variables"
   ]
  },
  {
   "cell_type": "markdown",
   "metadata": {},
   "source": [
    "## Model class\n",
    "The model class is as subclass of the lume_epics.model.SurrogateModel class, which will validate that the subclasses have assigned compatible input/output variables and a predict method."
   ]
  },
  {
   "cell_type": "code",
   "execution_count": null,
   "metadata": {},
   "outputs": [],
   "source": [
    "class DemoModel(SurrogateModel):\n",
    "    input_variables = {\n",
    "        \"input1\": ScalarInputVariable(name=\"input1\", value=1, range=[0, 256]),\n",
    "        \"input2\": ScalarInputVariable(name=\"input2\", value=2, range=[0, 256]),\n",
    "    }\n",
    "\n",
    "    output_variables = {\n",
    "        \"output1\": ImageOutputVariable(\n",
    "            name=\"output1\", axis_labels=[\"value_1\", \"value_2\"], axis_units=[\"mm\", \"mm\"], x_min=0, x_max=50, y_min=0, y_max=50\n",
    "        )\n",
    "    }\n",
    "    \n",
    "    def evaluate(self, input_variables):\n",
    "        self.output_variables[\"output1\"].value = np.random.uniform(\n",
    "            self.input_variables[\"input1\"].value, # lower dist bound\n",
    "            self.input_variables[\"input2\"].value, # upper dist bound\n",
    "            (50,50)\n",
    "        ) #shape\n",
    "        \n",
    "\n",
    "        return list(self.output_variables.values())\n"
   ]
  },
  {
   "cell_type": "markdown",
   "metadata": {},
   "source": [
    "# What happens if a model class is missing outputs?"
   ]
  },
  {
   "cell_type": "code",
   "execution_count": null,
   "metadata": {},
   "outputs": [],
   "source": [
    "class FailureClass1(SurrogateModel):\n",
    "    input_variables = {\n",
    "        \"input1\": ScalarInputVariable(name=\"input1\", value=1, range=[0, 256]),\n",
    "        \"input2\": ScalarInputVariable(name=\"input2\", value=2, range=[0, 256]),\n",
    "    }\n",
    "\n",
    "    \n",
    "    def evaluate(self, input_variables):\n",
    "        return list(self.input_variables.values())\n",
    "\n",
    "FailureClass1()"
   ]
  },
  {
   "cell_type": "markdown",
   "metadata": {},
   "source": [
    "# ... Or an evaluate method:"
   ]
  },
  {
   "cell_type": "code",
   "execution_count": null,
   "metadata": {},
   "outputs": [],
   "source": [
    "class FailureClass2(SurrogateModel):\n",
    "    input_variables = {\n",
    "        \"input1\": ScalarInputVariable(name=\"input1\", value=1, range=[0, 256]),\n",
    "        \"input2\": ScalarInputVariable(name=\"input2\", value=2, range=[0, 256]),\n",
    "    }\n",
    "\n",
    "    output_variables = {\n",
    "        \"output1\": ImageOutputVariable(\n",
    "            name=\"output1\", axis_labels=[\"value_1\", \"value_2\"], axis_units=[\"mm\", \"mm\"], x_min=0, x_max=50, y_min=0, y_max=50\n",
    "        )\n",
    "    }\n",
    "    \n",
    "    def return_prediction(self, input_variables):\n",
    "        self.output_variables[\"output1\"].value = np.random.uniform(\n",
    "            self.input_variables[\"input1\"].value, # lower dist bound\n",
    "            self.input_variables[\"input2\"].value, # upper dist bound\n",
    "            (50,50)\n",
    "        ) #shape\n",
    "        \n",
    "\n",
    "        return list(self.output_variables.values())\n",
    "    \n",
    "    \n",
    "FailureClass2()"
   ]
  },
  {
   "cell_type": "markdown",
   "metadata": {},
   "source": [
    "# Server\n",
    "Setting up Channel Access and PVAccess servers requires passing only prefix and the model class. Single protocol servers can be configured by passing `protocol=[{PROTOCOL}]`."
   ]
  },
  {
   "cell_type": "code",
   "execution_count": null,
   "metadata": {},
   "outputs": [],
   "source": [
    "prefix = \"test\"\n",
    "server = Server(DemoModel, prefix)\n",
    "# monitor = False does not loop in main thread\n",
    "server.start(monitor=False)"
   ]
  },
  {
   "cell_type": "markdown",
   "metadata": {},
   "source": [
    "# Save variables"
   ]
  },
  {
   "cell_type": "code",
   "execution_count": null,
   "metadata": {},
   "outputs": [],
   "source": [
    "variable_filename = \"demo_variables.pickle\"\n",
    "save_variables(DemoModel, variable_filename)"
   ]
  },
  {
   "cell_type": "markdown",
   "metadata": {},
   "source": [
    "# See DemoClient.ipynb for display"
   ]
  },
  {
   "cell_type": "markdown",
   "metadata": {},
   "source": [
    "# Stop the server"
   ]
  },
  {
   "cell_type": "code",
   "execution_count": null,
   "metadata": {},
   "outputs": [],
   "source": [
    "server.stop()"
   ]
  },
  {
   "cell_type": "code",
   "execution_count": null,
   "metadata": {},
   "outputs": [],
   "source": []
  }
 ],
 "metadata": {
  "kernelspec": {
   "display_name": "lume-model-server-demo",
   "language": "python",
   "name": "lume-model-server-demo"
  },
  "language_info": {
   "codemirror_mode": {
    "name": "ipython",
    "version": 3
   },
   "file_extension": ".py",
   "mimetype": "text/x-python",
   "name": "python",
   "nbconvert_exporter": "python",
   "pygments_lexer": "ipython3",
   "version": "3.7.7"
  }
 },
 "nbformat": 4,
 "nbformat_minor": 4
}

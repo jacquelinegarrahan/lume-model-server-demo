{
 "cells": [
  {
   "cell_type": "code",
   "execution_count": null,
   "metadata": {},
   "outputs": [],
   "source": [
    "import numpy as np\n",
    "from lume_epics.epics_server import Server\n",
    "from lume_epics.model import SurrogateModel\n",
    "from lume_model.utils import save_variables\n",
    "\n",
    "from lume_model.variables import ScalarInputVariable, ImageOutputVariable\n",
    "from MySurrogateModel import MySurrogateModel"
   ]
  },
  {
   "cell_type": "code",
   "execution_count": null,
   "metadata": {},
   "outputs": [],
   "source": [
    "prefix = \"test\"\n",
    "stock_image_input = np.load(\"files/example_input_image.npy\")\n",
    "model_file = \"files/CNN_060420_SurrogateModel.h5\"\n",
    "model_kwargs= {\"model_file\": model_file, \"stock_image_input\": stock_image_input}"
   ]
  },
  {
   "cell_type": "code",
   "execution_count": null,
   "metadata": {},
   "outputs": [],
   "source": [
    "server = Server(MySurrogateModel, prefix, model_kwargs=model_kwargs)\n",
    "# monitor = False does not loop in main thread\n",
    "server.start(monitor=False)"
   ]
  },
  {
   "cell_type": "code",
   "execution_count": null,
   "metadata": {},
   "outputs": [],
   "source": [
    "variable_filename = \"surrogate_model_variables.pickle\"\n",
    "save_variables(MySurrogateModel, variable_filename)"
   ]
  },
  {
   "cell_type": "code",
   "execution_count": null,
   "metadata": {},
   "outputs": [],
   "source": [
    "server.stop()"
   ]
  },
  {
   "cell_type": "code",
   "execution_count": null,
   "metadata": {},
   "outputs": [],
   "source": []
  }
 ],
 "metadata": {
  "kernelspec": {
   "display_name": "lume-model-server-demo",
   "language": "python",
   "name": "lume-model-server-demo"
  },
  "language_info": {
   "codemirror_mode": {
    "name": "ipython",
    "version": 3
   },
   "file_extension": ".py",
   "mimetype": "text/x-python",
   "name": "python",
   "nbconvert_exporter": "python",
   "pygments_lexer": "ipython3",
   "version": "3.7.7"
  }
 },
 "nbformat": 4,
 "nbformat_minor": 4
}

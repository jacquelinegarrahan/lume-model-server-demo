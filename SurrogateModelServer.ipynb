{
 "cells": [
  {
   "cell_type": "markdown",
   "metadata": {},
   "source": [
    "# Set up server for surrogate model using MySurrogateModel class"
   ]
  },
  {
   "cell_type": "code",
   "execution_count": null,
   "metadata": {},
   "outputs": [],
   "source": [
    "import numpy as np\n",
    "from lume_epics.epics_server import Server\n",
    "from lume_epics.model import SurrogateModel\n",
    "from lume_model.utils import save_variables, load_variables\n",
    "from MySurrogateModel import MyModel"
   ]
  },
  {
   "cell_type": "code",
   "execution_count": null,
   "metadata": {},
   "outputs": [],
   "source": [
    "prefix = \"test\"\n",
    "variable_file = \"files/surrogate_model_variables.pickle\"\n",
    "model_file = \"files/SG_CNN_FULL_072820_SurrogateModel.h5\"\n",
    "input_variables, output_variables = load_variables(variable_file)\n",
    "model_kwargs= {\"model_file\": model_file, \"input_variables\": input_variables, \"output_variables\": output_variables}"
   ]
  },
  {
   "cell_type": "markdown",
   "metadata": {},
   "source": [
    "# Configure epics server"
   ]
  },
  {
   "cell_type": "code",
   "execution_count": null,
   "metadata": {},
   "outputs": [],
   "source": [
    "server = Server(MyModel, input_variables, output_variables, prefix, model_kwargs=model_kwargs)\n",
    "# monitor = False does not loop in main thread\n",
    "server.start(monitor=False)"
   ]
  },
  {
   "cell_type": "markdown",
   "metadata": {},
   "source": [
    "# Save variables for use with client"
   ]
  },
  {
   "cell_type": "code",
   "execution_count": null,
   "metadata": {},
   "outputs": [],
   "source": [
    "server.stop()"
   ]
  }
 ],
 "metadata": {
  "kernelspec": {
   "display_name": "lume-model-server-demo",
   "language": "python",
   "name": "lume-model-server-demo"
  },
  "language_info": {
   "codemirror_mode": {
    "name": "ipython",
    "version": 3
   },
   "file_extension": ".py",
   "mimetype": "text/x-python",
   "name": "python",
   "nbconvert_exporter": "python",
   "pygments_lexer": "ipython3",
   "version": "3.7.7"
  }
 },
 "nbformat": 4,
 "nbformat_minor": 4
}

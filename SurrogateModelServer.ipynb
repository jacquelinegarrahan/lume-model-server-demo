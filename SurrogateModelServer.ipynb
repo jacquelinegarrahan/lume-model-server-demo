{
 "cells": [
  {
   "cell_type": "markdown",
   "metadata": {},
   "source": [
    "# Surrogate Model Server\n",
    "\n",
    "This is the first of two notebooks in the demo. Complete this notebook before moving on to SurrogateModelClient.ipynb.\n",
    "\n",
    "In this demo, we will launch a `lume-epics` server which will serve EPICS process variables using both pvAccess and Channel Access. The `lume-epics` server will continually evaluate the process variables as the inputs and outputs of an online surrogate model. We will then create an application using sliders to control the input process variables and a view of the image output in the client notebook.\n"
   ]
  },
  {
   "cell_type": "markdown",
   "metadata": {},
   "source": [
    "##  Load input and output variables\n",
    "These `lume-model` variables are prepared during model development."
   ]
  },
  {
   "cell_type": "code",
   "execution_count": null,
   "metadata": {},
   "outputs": [],
   "source": [
    "from lume_model.utils import load_variables\n",
    "\n",
    "variable_file = \"files/surrogate_model_variables.pickle\"\n",
    "input_variables, output_variables = load_variables(variable_file)"
   ]
  },
  {
   "cell_type": "markdown",
   "metadata": {},
   "source": [
    "# Configure EPICS server\n",
    "For this demo, the online surrogate model uses a `Model` class defined the `surrogate_model.py` file in this repository. The `Model` class requires the keyword arguments `model_file`, `input_variables`, and `output_variables` for initialization. These keyword args are passed to the server using `model_kwargs`."
   ]
  },
  {
   "cell_type": "code",
   "execution_count": null,
   "metadata": {},
   "outputs": [],
   "source": [
    "from lume_epics.epics_server import Server\n",
    "from surrogate_model import Model\n",
    "import tensorflow as tf\n",
    "tf.compat.v1.logging.set_verbosity(tf.compat.v1.logging.ERROR)\n",
    "\n",
    "prefix = \"test\"\n",
    "model_file = \"files/SG_CNN_FULL_072820_SurrogateModel.h5\"\n",
    "\n",
    "model_kwargs= {\"model_file\": model_file, \"input_variables\": input_variables, \"output_variables\": output_variables}\n",
    "server = Server(MyModel, input_variables, output_variables, prefix, model_kwargs=model_kwargs)"
   ]
  },
  {
   "cell_type": "markdown",
   "metadata": {},
   "source": [
    "## Start server"
   ]
  },
  {
   "cell_type": "code",
   "execution_count": null,
   "metadata": {},
   "outputs": [],
   "source": [
    "server.start(monitor=False) # monitor = False does not loop in main thread"
   ]
  },
  {
   "cell_type": "markdown",
   "metadata": {},
   "source": [
    "The server is now running. Navigate to the client notebook. Return to this notebook at the close to stop the server."
   ]
  },
  {
   "cell_type": "markdown",
   "metadata": {},
   "source": [
    "## Stop server"
   ]
  },
  {
   "cell_type": "code",
   "execution_count": null,
   "metadata": {},
   "outputs": [],
   "source": [
    "server.stop()"
   ]
  }
 ],
 "metadata": {
  "kernelspec": {
   "display_name": "lume-model-server-demo",
   "language": "python",
   "name": "lume-model-server-demo"
  },
  "language_info": {
   "codemirror_mode": {
    "name": "ipython",
    "version": 3
   },
   "file_extension": ".py",
   "mimetype": "text/x-python",
   "name": "python",
   "nbconvert_exporter": "python",
   "pygments_lexer": "ipython3",
   "version": "3.7.7"
  }
 },
 "nbformat": 4,
 "nbformat_minor": 4
}

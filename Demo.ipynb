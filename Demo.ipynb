{
 "cells": [
  {
   "cell_type": "markdown",
   "metadata": {},
   "source": [
    "# Demo of application using lume-epics and lume-model "
   ]
  },
  {
   "cell_type": "code",
   "execution_count": null,
   "metadata": {},
   "outputs": [],
   "source": [
    "import numpy as np\n",
    "from lume_epics.epics_server import Server\n",
    "from lume_epics.model import SurrogateModel\n",
    "\n",
    "from lume_model.variables import ScalarInputVariable, ImageOutputVariable"
   ]
  },
  {
   "cell_type": "markdown",
   "metadata": {},
   "source": [
    "## Model class\n",
    "The model class is as subclass of the lume_epics.model.SurrogateModel class, which will validate that the subclasses have assigned compatible input/output variables and a predict method."
   ]
  },
  {
   "cell_type": "code",
   "execution_count": null,
   "metadata": {},
   "outputs": [],
   "source": [
    "class DemoModel(SurrogateModel):\n",
    "    input_variables = {\n",
    "        \"input1\": ScalarInputVariable(name=\"input1\", value=1, range=[0, 256]),\n",
    "        \"input2\": ScalarInputVariable(name=\"input2\", value=2, range=[0, 256]),\n",
    "    }\n",
    "\n",
    "    output_variables = {\n",
    "        \"output1\": ImageOutputVariable(\n",
    "            name=\"output1\", axis_labels=[\"value_1\", \"value_2\"], axis_units=[\"mm\", \"mm\"], x_min=0, x_max=50, y_min=0, y_max=50\n",
    "        )\n",
    "    }\n",
    "    \n",
    "    def evaluate(self, input_variables):\n",
    "        self.output_variables[\"output1\"].value = np.random.uniform(\n",
    "            self.input_variables[\"input1\"].value, # lower dist bound\n",
    "            self.input_variables[\"input2\"].value, # upper dist bound\n",
    "            (50,50)\n",
    "        ) #shape\n",
    "        \n",
    "\n",
    "        return list(self.output_variables.values())"
   ]
  },
  {
   "cell_type": "markdown",
   "metadata": {},
   "source": [
    "# Server\n",
    "Setting up Channel Access and PVAccess servers requires passing only prefix and the model class. Single protocol servers can be configured by passing `protocol=[{PROTOCOL}]`."
   ]
  },
  {
   "cell_type": "code",
   "execution_count": null,
   "metadata": {},
   "outputs": [],
   "source": [
    "prefix = \"test\"\n",
    "server = Server(DemoModel, prefix)\n",
    "# monitor = False does not loop in main thread\n",
    "server.start(monitor=False)"
   ]
  },
  {
   "cell_type": "markdown",
   "metadata": {},
   "source": [
    "# Set up client application\n",
    "The widgets included in the lume-epics use the epics controller to surface process variables with bokeh."
   ]
  },
  {
   "cell_type": "code",
   "execution_count": null,
   "metadata": {},
   "outputs": [],
   "source": [
    "from lume_epics.client.widgets.plots import ImagePlot\n",
    "from lume_epics.client.widgets.sliders import build_sliders\n",
    "from lume_epics.client.controller import Controller\n",
    "\n",
    "from bokeh.io import output_notebook, show\n",
    "from bokeh import palettes\n",
    "from bokeh.layouts import column, row\n",
    "from bokeh.models import LinearColorMapper\n",
    "# load bokeh\n",
    "output_notebook()"
   ]
  },
  {
   "cell_type": "markdown",
   "metadata": {},
   "source": [
    "### Build slider and image widgets"
   ]
  },
  {
   "cell_type": "code",
   "execution_count": null,
   "metadata": {},
   "outputs": [],
   "source": [
    " # build sliders for the command process variable database\n",
    "inputs = list(DemoModel.input_variables.values())\n",
    "controller = Controller(\"pva\") # can also use channel access\n",
    "sliders = build_sliders(inputs, controller, prefix)\n",
    "\n",
    "# create image plot\n",
    "output_variables = list(DemoModel.output_variables.values())\n",
    "image_plot = ImagePlot(output_variables, controller, prefix)\n",
    "\n",
    "pal = palettes.viridis(256)\n",
    "color_mapper = LinearColorMapper(palette=pal, low=0, high=256)\n",
    "\n",
    "image_plot.build_plot(color_mapper=color_mapper)\n",
    "\n",
    "# Set up image update callback\n",
    "def image_update_callback():\n",
    "    image_plot.update()"
   ]
  },
  {
   "cell_type": "markdown",
   "metadata": {},
   "source": [
    "# Render application "
   ]
  },
  {
   "cell_type": "code",
   "execution_count": null,
   "metadata": {},
   "outputs": [],
   "source": [
    "# function for rendering the application in the bokeh server\n",
    "def render_app(doc):\n",
    "    doc.title = \"Demo App\"\n",
    "    doc.add_root(\n",
    "        column(\n",
    "            row(column(sliders, width=350)), \n",
    "            row(image_plot.plot, height=300),\n",
    "        )\n",
    "    )\n",
    "    doc.add_periodic_callback(image_update_callback, 250)\n",
    "\n",
    "    \n",
    "show(render_app)"
   ]
  },
  {
   "cell_type": "markdown",
   "metadata": {},
   "source": [
    "# Stop the server"
   ]
  },
  {
   "cell_type": "code",
   "execution_count": null,
   "metadata": {},
   "outputs": [],
   "source": [
    "server.stop()"
   ]
  },
  {
   "cell_type": "code",
   "execution_count": null,
   "metadata": {},
   "outputs": [],
   "source": []
  }
 ],
 "metadata": {
  "kernelspec": {
   "display_name": "lume-model-server-demo",
   "language": "python",
   "name": "lume-model-server-demo"
  },
  "language_info": {
   "codemirror_mode": {
    "name": "ipython",
    "version": 3
   },
   "file_extension": ".py",
   "mimetype": "text/x-python",
   "name": "python",
   "nbconvert_exporter": "python",
   "pygments_lexer": "ipython3",
   "version": "3.7.7"
  }
 },
 "nbformat": 4,
 "nbformat_minor": 4
}

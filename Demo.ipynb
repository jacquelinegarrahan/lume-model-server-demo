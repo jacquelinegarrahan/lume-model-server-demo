{
 "cells": [
  {
   "cell_type": "code",
   "execution_count": null,
   "metadata": {},
   "outputs": [],
   "source": [
    "import numpy as np\n",
    "from lume_epics.epics_server import Server\n",
    "from lume_epics.model import SurrogateModel\n",
    "\n",
    "from lume_model.variables import ScalarInputVariable, ScalarOutputVariable, ImageInputVariable, ImageOutputVariable"
   ]
  },
  {
   "cell_type": "code",
   "execution_count": null,
   "metadata": {},
   "outputs": [],
   "source": [
    "class DemoModel(SurrogateModel):\n",
    "    input_variables = {\n",
    "        \"input1\": ScalarInputVariable(name=\"input1\", value=1, range=[0, 244]),\n",
    "        \"input2\": ScalarInputVariable(name=\"input2\", value=2, range=[0, 244]),\n",
    "    }\n",
    "\n",
    "    output_variables = {\n",
    "        \"output1\": ImageOutputVariable(\n",
    "            name=\"output1\", axis_labels=[\"count_1\", \"count_2\"], x_min=0, x_max=50, y_min=0, y_max=50\n",
    "        )\n",
    "    }\n",
    "    \n",
    "    def predict(self, input_variables):\n",
    "        self.output_variables[\"output1\"].value = np.random.uniform(\n",
    "            self.input_variables[\"input1\"].value, # lower dist bound\n",
    "            self.input_variables[\"input2\"].value, # upper dist bound\n",
    "            (50,50)\n",
    "        ) #shape\n",
    "        \n",
    "\n",
    "        return list(self.output_variables.values())"
   ]
  },
  {
   "cell_type": "code",
   "execution_count": null,
   "metadata": {},
   "outputs": [],
   "source": [
    "prefix = \"test\"\n",
    "server = Server(DemoModel, prefix)\n",
    "server.start_pva_server()\n",
    "server.start_ca_server()"
   ]
  },
  {
   "cell_type": "code",
   "execution_count": null,
   "metadata": {},
   "outputs": [],
   "source": [
    "from lume_epics.client.widgets.plots import ImagePlot\n",
    "from lume_epics.client.widgets.sliders import build_sliders\n",
    "from lume_epics.client.controller import Controller\n",
    "\n",
    "from bokeh.io import output_notebook, show\n",
    "from bokeh import palettes\n",
    "from bokeh.layouts import column, row\n",
    "\n",
    "# load bokeh\n",
    "output_notebook()"
   ]
  },
  {
   "cell_type": "code",
   "execution_count": null,
   "metadata": {},
   "outputs": [],
   "source": [
    " # build sliders for the command process variable database\n",
    "inputs = list(DemoModel.input_variables.values())\n",
    "controller = Controller(\"pva\")\n",
    "sliders = build_sliders(inputs, controller, prefix)"
   ]
  },
  {
   "cell_type": "code",
   "execution_count": null,
   "metadata": {},
   "outputs": [],
   "source": [
    "# Create custom palette with low values set to white\n",
    "pal = list(palettes.viridis(244))  # 256 - 12 (set lowest 5% to white)\n",
    "pal = [\"#FFFFFF\"] * 12 + pal\n",
    "pal = tuple(pal)\n",
    "\n",
    "# Set up image update callback\n",
    "def image_update_callback():\n",
    "    \"\"\"\n",
    "    Calls plot controller update with the current global process variable\n",
    "    \"\"\"\n",
    "    global current_image_pv\n",
    "    image_plot.update(current_image_pv)\n",
    "\n",
    "# create plot\n",
    "output_variables = list(DemoModel.output_variables.values())\n",
    "image_plot = ImagePlot(output_variables, controller, prefix)\n",
    "image_plot.build_plot(pal)"
   ]
  },
  {
   "cell_type": "code",
   "execution_count": null,
   "metadata": {},
   "outputs": [],
   "source": [
    "import os\n",
    "os.environ[\"BOKEH_ALLOW_WS_ORIGIN\"]=\"localhost:8888\""
   ]
  },
  {
   "cell_type": "code",
   "execution_count": null,
   "metadata": {},
   "outputs": [],
   "source": [
    "# Set up image update callback\n",
    "def image_update_callback():\n",
    "    \"\"\"\n",
    "    Calls plot controller update with the current global process variable\n",
    "    \"\"\"\n",
    "    image_plot.update(\"output1\")\n",
    "\n",
    "\n",
    "\n",
    "def render_app(doc):\n",
    "    \"\"\"\n",
    "    Function for rendering the application within the embedded bokeh server.\n",
    "    \"\"\"\n",
    "    doc.title = \"Demo App\"\n",
    "    doc.add_root(\n",
    "        column(\n",
    "            row(column(sliders, width=350)), \n",
    "        row(image_plot.plot, height=300),\n",
    "        )\n",
    "    )\n",
    "    doc.add_periodic_callback(image_update_callback, 250)\n",
    "\n",
    "    \n",
    "show(render_app)"
   ]
  },
  {
   "cell_type": "code",
   "execution_count": null,
   "metadata": {},
   "outputs": [],
   "source": [
    "server.stop()"
   ]
  },
  {
   "cell_type": "code",
   "execution_count": null,
   "metadata": {},
   "outputs": [],
   "source": []
  }
 ],
 "metadata": {
  "kernelspec": {
   "display_name": "lume-model-server-demo",
   "language": "python",
   "name": "lume-model-server-demo"
  },
  "language_info": {
   "codemirror_mode": {
    "name": "ipython",
    "version": 3
   },
   "file_extension": ".py",
   "mimetype": "text/x-python",
   "name": "python",
   "nbconvert_exporter": "python",
   "pygments_lexer": "ipython3",
   "version": "3.7.7"
  }
 },
 "nbformat": 4,
 "nbformat_minor": 4
}

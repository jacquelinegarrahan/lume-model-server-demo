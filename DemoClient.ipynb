{
 "cells": [
  {
   "cell_type": "markdown",
   "metadata": {},
   "source": [
    "# Demo of client tools"
   ]
  },
  {
   "cell_type": "code",
   "execution_count": null,
   "metadata": {},
   "outputs": [],
   "source": [
    "from lume_epics.client.controller import Controller\n",
    "from lume_model.utils import load_variables\n",
    "\n",
    "from lume_epics.client.widgets.plots import ImagePlot\n",
    "from lume_epics.client.widgets.sliders import build_sliders\n",
    "from lume_epics.client.controller import Controller\n",
    "\n",
    "from bokeh.io import output_notebook, show\n",
    "from bokeh import palettes\n",
    "from bokeh.layouts import column, row\n",
    "from bokeh.models import LinearColorMapper\n",
    "\n",
    "prefix = \"test\"\n",
    "variable_filename = \"demo_variables.pickle\"\n",
    "\n",
    "# load bokeh\n",
    "output_notebook()"
   ]
  },
  {
   "cell_type": "code",
   "execution_count": null,
   "metadata": {},
   "outputs": [],
   "source": [
    "# load variables\n",
    "variables = load_variables(variable_filename)\n",
    "input_variables = variables[\"input_variables\"]\n",
    "output_variables = variables[\"output_variables\"]"
   ]
  },
  {
   "cell_type": "markdown",
   "metadata": {},
   "source": [
    "# Set up the display"
   ]
  },
  {
   "cell_type": "code",
   "execution_count": null,
   "metadata": {},
   "outputs": [],
   "source": [
    " # build sliders for the command process variable database\n",
    "controller = Controller(\"pva\") # can also use channel access\n",
    "sliders = build_sliders(input_variables, controller, prefix)\n",
    "\n",
    "# create image plot\n",
    "image_plot = ImagePlot(output_variables, controller, prefix)\n",
    "\n",
    "pal = palettes.viridis(256)\n",
    "color_mapper = LinearColorMapper(palette=pal, low=0, high=256)\n",
    "\n",
    "image_plot.build_plot(color_mapper=color_mapper)\n",
    "\n",
    "# Set up image update callback\n",
    "def image_update_callback():\n",
    "    image_plot.update()"
   ]
  },
  {
   "cell_type": "markdown",
   "metadata": {},
   "source": [
    "# Render application"
   ]
  },
  {
   "cell_type": "code",
   "execution_count": null,
   "metadata": {},
   "outputs": [],
   "source": [
    "# function for rendering the application in the bokeh server\n",
    "def render_app(doc):\n",
    "    doc.title = \"Demo App\"\n",
    "    doc.add_root(\n",
    "        column(\n",
    "            row(column(sliders, width=350)), \n",
    "            row(image_plot.plot, height=300),\n",
    "        )\n",
    "    )\n",
    "    doc.add_periodic_callback(image_update_callback, 250)\n",
    "\n",
    "    \n",
    "show(render_app)"
   ]
  },
  {
   "cell_type": "code",
   "execution_count": null,
   "metadata": {},
   "outputs": [],
   "source": []
  }
 ],
 "metadata": {
  "kernelspec": {
   "display_name": "lume-model-server-demo",
   "language": "python",
   "name": "lume-model-server-demo"
  },
  "language_info": {
   "codemirror_mode": {
    "name": "ipython",
    "version": 3
   },
   "file_extension": ".py",
   "mimetype": "text/x-python",
   "name": "python",
   "nbconvert_exporter": "python",
   "pygments_lexer": "ipython3",
   "version": "3.7.7"
  }
 },
 "nbformat": 4,
 "nbformat_minor": 4
}
